{
 "cells": [
  {
   "cell_type": "code",
   "execution_count": 1,
   "metadata": {},
   "outputs": [
    {
     "name": "stdout",
     "output_type": "stream",
     "text": [
      "guess a number between 1 and 100 : 56\n",
      "too high\n",
      "guess again : 69\n",
      "too high\n",
      "guess again : 23\n",
      "too high\n",
      "guess again : 35\n",
      "too high\n",
      "guess again : 22\n",
      "too high\n",
      "guess again : 1\n",
      "too low\n",
      "guess again : 12\n",
      "too low\n",
      "guess again : 15\n",
      "too high\n",
      "guess again : 13\n",
      "too low\n",
      "guess again : 15\n",
      "too high\n",
      "guess again : 14\n",
      "you win, and you guessed this number in 11 times \n"
     ]
    }
   ],
   "source": [
    "import random\n",
    "winning_number = random.randint(1, 100)\n",
    "guess = 1\n",
    "number = int(input(\"guess a number between 1 and 100 : \"))\n",
    "game_over = False\n",
    "while not game_over:\n",
    "    if number == winning_number:\n",
    "        print(f\"you win, and you guessed this number in {guess} times \")\n",
    "        game_over = True\n",
    "    else:\n",
    "        if number < winning_number:\n",
    "            print(\"too low\")\n",
    "        else:\n",
    "            print(\"too high\")\n",
    "        guess += 1\n",
    "        number = int(input(\"guess again : \"))"
   ]
  }
 ],
 "metadata": {
  "kernelspec": {
   "display_name": "Python 3",
   "language": "python",
   "name": "python3"
  },
  "language_info": {
   "codemirror_mode": {
    "name": "ipython",
    "version": 3
   },
   "file_extension": ".py",
   "mimetype": "text/x-python",
   "name": "python",
   "nbconvert_exporter": "python",
   "pygments_lexer": "ipython3",
   "version": "3.8.3"
  }
 },
 "nbformat": 4,
 "nbformat_minor": 4
}
